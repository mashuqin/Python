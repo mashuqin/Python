{
 "cells": [
  {
   "cell_type": "code",
   "execution_count": 1,
   "metadata": {
    "collapsed": true
   },
   "outputs": [],
   "source": [
    "#quick sort\n",
    "def quickSort(L, low, high):\n",
    "    i = low \n",
    "    j = high\n",
    "    if i >= j:\n",
    "        return L\n",
    "    key = L[i]\n",
    "    while i < j:\n",
    "        while i < j and L[j] >= key:\n",
    "            j = j-1                                                             \n",
    "        L[i] = L[j]\n",
    "        while i < j and L[i] <= key:    \n",
    "            i = i+1 \n",
    "        L[j] = L[i]\n",
    "    L[i] = key \n",
    "    quickSort(L, low, i-1)\n",
    "    quickSort(L, j+1, high)\n",
    "    return L"
   ]
  },
  {
   "cell_type": "code",
   "execution_count": 3,
   "metadata": {},
   "outputs": [
    {
     "name": "stdout",
     "output_type": "stream",
     "text": [
      "[1, 3, 7, 8, 24, 45, 65, 76, 84]\n"
     ]
    }
   ],
   "source": [
    "l=[7,3,8,65,84,24,1,45,76]\n",
    "low=0\n",
    "high=8\n",
    "print(quickSort(l,low,high))"
   ]
  },
  {
   "cell_type": "code",
   "execution_count": null,
   "metadata": {
    "collapsed": true
   },
   "outputs": [],
   "source": []
  }
 ],
 "metadata": {
  "kernelspec": {
   "display_name": "Python 3",
   "language": "python",
   "name": "python3"
  },
  "language_info": {
   "codemirror_mode": {
    "name": "ipython",
    "version": 3
   },
   "file_extension": ".py",
   "mimetype": "text/x-python",
   "name": "python",
   "nbconvert_exporter": "python",
   "pygments_lexer": "ipython3",
   "version": "3.6.3"
  }
 },
 "nbformat": 4,
 "nbformat_minor": 2
}
