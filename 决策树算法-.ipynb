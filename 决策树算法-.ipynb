{
 "cells": [
  {
   "cell_type": "markdown",
   "metadata": {},
   "source": [
    "# 决策树（可以做分类、回归）"
   ]
  },
  {
   "cell_type": "markdown",
   "metadata": {},
   "source": [
    "### 衡量标准（熵——表示随机变量不确定性的度量）"
   ]
  },
  {
   "cell_type": "markdown",
   "metadata": {},
   "source": [
    "当p=0或p=1时，H(p)=0,随机变量完全没有不确定性  \n",
    "当p=0.5时，H(p)=1，随机变量不确定性最大"
   ]
  },
  {
   "cell_type": "markdown",
   "metadata": {},
   "source": [
    "### 信息增益：表示特征X使得类Y的不确定性减少的程度"
   ]
  },
  {
   "cell_type": "markdown",
   "metadata": {},
   "source": [
    "## 决策树算法"
   ]
  },
  {
   "cell_type": "markdown",
   "metadata": {},
   "source": [
    "ID3：信息增益  \n",
    "C4.5：信息增益率(解决ID3问题，考虑自身熵)    \n",
    "CART：使用GINI系数作衡量标准"
   ]
  },
  {
   "cell_type": "markdown",
   "metadata": {},
   "source": [
    "## 决策树剪枝（防止过拟合）"
   ]
  },
  {
   "cell_type": "markdown",
   "metadata": {},
   "source": [
    "剪枝策略：  \n",
    "预剪枝（边建立决策树边进行剪枝，可以控制树的深度、叶子节点个数、叶子节点样本数、信息增益量，更实用）  \n",
    "后剪枝（建立完决策树后进行剪枝）"
   ]
  },
  {
   "cell_type": "markdown",
   "metadata": {},
   "source": [
    "### 连续值怎么办？先排序，后切割"
   ]
  },
  {
   "cell_type": "markdown",
   "metadata": {},
   "source": [
    "离散化！"
   ]
  }
 ],
 "metadata": {
  "kernelspec": {
   "display_name": "Python 3",
   "language": "python",
   "name": "python3"
  },
  "language_info": {
   "codemirror_mode": {
    "name": "ipython",
    "version": 3
   },
   "file_extension": ".py",
   "mimetype": "text/x-python",
   "name": "python",
   "nbconvert_exporter": "python",
   "pygments_lexer": "ipython3",
   "version": "3.6.3"
  }
 },
 "nbformat": 4,
 "nbformat_minor": 2
}
