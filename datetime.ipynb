{
 "cells": [
  {
   "cell_type": "code",
   "execution_count": 1,
   "metadata": {
    "collapsed": true
   },
   "outputs": [],
   "source": [
    "import datetime\n",
    "my_birthday=datetime.date(1993,9,10)\n",
    "now_time=datetime.date.today()\n",
    "days=now_time-my_birthday"
   ]
  },
  {
   "cell_type": "code",
   "execution_count": 2,
   "metadata": {},
   "outputs": [
    {
     "data": {
      "text/plain": [
       "datetime.timedelta(8956)"
      ]
     },
     "execution_count": 2,
     "metadata": {},
     "output_type": "execute_result"
    }
   ],
   "source": [
    "days"
   ]
  },
  {
   "cell_type": "code",
   "execution_count": 3,
   "metadata": {},
   "outputs": [
    {
     "data": {
      "text/plain": [
       "8956"
      ]
     },
     "execution_count": 3,
     "metadata": {},
     "output_type": "execute_result"
    }
   ],
   "source": [
    "int(str(days.days))"
   ]
  },
  {
   "cell_type": "code",
   "execution_count": 6,
   "metadata": {},
   "outputs": [
    {
     "name": "stdout",
     "output_type": "stream",
     "text": [
      "pls input something: aaaaaaaaaa33333333333gggggg\n",
      "{'DIGITS': 11, 'LETTERS': 16}\n"
     ]
    }
   ],
   "source": [
    "#s = raw_input('please input sequence of text:')\n",
    "d = {'DIGITS': 0, 'LETTERS': 0}\n",
    "\n",
    "s = input('pls input something: ')\n",
    "\n",
    "for char in s:\n",
    "    if char.isdigit():\n",
    "        d['DIGITS'] += 1\n",
    "    elif char.isalpha():\n",
    "        d['LETTERS'] += 1\n",
    "    else:\n",
    "        pass\n",
    "print(d)"
   ]
  },
  {
   "cell_type": "markdown",
   "metadata": {},
   "source": [
    "排序"
   ]
  },
  {
   "cell_type": "code",
   "execution_count": 18,
   "metadata": {
    "collapsed": true
   },
   "outputs": [],
   "source": [
    "tuple = [{'name': 'Ai', 'age': 10, 'height': 100}, {'name': 'Bill', 'age': 50, 'height': 120}, {'name': 'Ted', 'age': 44, 'height': 130}, {'name': 'Bill', 'age': 35, 'height': 120}]"
   ]
  },
  {
   "cell_type": "code",
   "execution_count": 10,
   "metadata": {},
   "outputs": [
    {
     "data": {
      "text/plain": [
       "[{'age': 10, 'height': 100, 'name': 'Ai'},\n",
       " {'age': 35, 'height': 120, 'name': 'Bill'},\n",
       " {'age': 50, 'height': 120, 'name': 'Bill'},\n",
       " {'age': 44, 'height': 130, 'name': 'Ted'}]"
      ]
     },
     "execution_count": 10,
     "metadata": {},
     "output_type": "execute_result"
    }
   ],
   "source": [
    "sorted(tuple, key=lambda x: (x['name'], x['age'], x['height']))"
   ]
  },
  {
   "cell_type": "code",
   "execution_count": 13,
   "metadata": {},
   "outputs": [
    {
     "data": {
      "text/plain": [
       "[{'age': 44, 'height': 130, 'name': 'Ted'},\n",
       " {'age': 50, 'height': 120, 'name': 'Bill'},\n",
       " {'age': 35, 'height': 120, 'name': 'Bill'},\n",
       " {'age': 10, 'height': 100, 'name': 'Ai'}]"
      ]
     },
     "execution_count": 13,
     "metadata": {},
     "output_type": "execute_result"
    }
   ],
   "source": [
    "sorted(tuple, key=lambda x: (x['name'], x['age'], x['height']),reverse = True)"
   ]
  },
  {
   "cell_type": "code",
   "execution_count": 23,
   "metadata": {},
   "outputs": [
    {
     "data": {
      "text/plain": [
       "[{'age': 10, 'height': 100, 'name': 'Ai'},\n",
       " {'age': 35, 'height': 120, 'name': 'Bill'},\n",
       " {'age': 50, 'height': 120, 'name': 'Bill'},\n",
       " {'age': 44, 'height': 130, 'name': 'Ted'}]"
      ]
     },
     "execution_count": 23,
     "metadata": {},
     "output_type": "execute_result"
    }
   ],
   "source": [
    "import operator\n",
    "sorted(tuple,key=operator.itemgetter(\"name\",\"age\",\"height\"))"
   ]
  },
  {
   "cell_type": "code",
   "execution_count": null,
   "metadata": {
    "collapsed": true
   },
   "outputs": [],
   "source": []
  }
 ],
 "metadata": {
  "kernelspec": {
   "display_name": "Python 3",
   "language": "python",
   "name": "python3"
  },
  "language_info": {
   "codemirror_mode": {
    "name": "ipython",
    "version": 3
   },
   "file_extension": ".py",
   "mimetype": "text/x-python",
   "name": "python",
   "nbconvert_exporter": "python",
   "pygments_lexer": "ipython3",
   "version": "3.6.3"
  }
 },
 "nbformat": 4,
 "nbformat_minor": 2
}
