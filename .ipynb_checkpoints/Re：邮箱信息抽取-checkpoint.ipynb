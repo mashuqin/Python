{
 "cells": [
  {
   "cell_type": "markdown",
   "metadata": {},
   "source": [
    "<img src=\"1.png\">"
   ]
  },
  {
   "cell_type": "code",
   "execution_count": 1,
   "metadata": {
    "collapsed": true
   },
   "outputs": [],
   "source": [
    "import re\n",
    "pattern=re.compile(\"(\\w+)@\\S+\")"
   ]
  },
  {
   "cell_type": "markdown",
   "metadata": {},
   "source": [
    "方法一"
   ]
  },
  {
   "cell_type": "code",
   "execution_count": 2,
   "metadata": {
    "collapsed": true
   },
   "outputs": [],
   "source": [
    "str = \"4290@qq.com\"\n",
    "items=[\"4sncjwkd0@qq.com\",\"3330@qq.com\",\"45440@qq.com\",\"fngr@qq.com\",\"asjknve@qq.com\",\"sncjdscn@qq.com\"]"
   ]
  },
  {
   "cell_type": "code",
   "execution_count": 3,
   "metadata": {},
   "outputs": [
    {
     "data": {
      "text/plain": [
       "['4290']"
      ]
     },
     "execution_count": 3,
     "metadata": {},
     "output_type": "execute_result"
    }
   ],
   "source": [
    "pattern.findall(str)"
   ]
  },
  {
   "cell_type": "code",
   "execution_count": 4,
   "metadata": {},
   "outputs": [
    {
     "name": "stdout",
     "output_type": "stream",
     "text": [
      "['4sncjwkd0']\n",
      "['3330']\n",
      "['45440']\n",
      "['fngr']\n",
      "['asjknve']\n",
      "['sncjdscn']\n"
     ]
    }
   ],
   "source": [
    "for item in items:\n",
    "    print(pattern.findall(item))"
   ]
  },
  {
   "cell_type": "code",
   "execution_count": 5,
   "metadata": {},
   "outputs": [
    {
     "name": "stdout",
     "output_type": "stream",
     "text": [
      "{'4sncjwkd0@qq.com': ['4sncjwkd0'], '3330@qq.com': ['3330'], '45440@qq.com': ['45440'], 'fngr@qq.com': ['fngr'], 'asjknve@qq.com': ['asjknve'], 'sncjdscn@qq.com': ['sncjdscn']}\n"
     ]
    }
   ],
   "source": [
    "dict={}\n",
    "for item in items:\n",
    "    dict[item]=pattern.findall(item)\n",
    "print(dict)"
   ]
  },
  {
   "cell_type": "markdown",
   "metadata": {},
   "source": [
    "list转str（用join）"
   ]
  },
  {
   "cell_type": "code",
   "execution_count": 6,
   "metadata": {},
   "outputs": [
    {
     "name": "stdout",
     "output_type": "stream",
     "text": [
      "{'4sncjwkd0@qq.com': '4sncjwkd0', '3330@qq.com': '3330', '45440@qq.com': '45440', 'fngr@qq.com': 'fngr', 'asjknve@qq.com': 'asjknve', 'sncjdscn@qq.com': 'sncjdscn'}\n"
     ]
    }
   ],
   "source": [
    "dict={}\n",
    "for item in items:\n",
    "    dict[item]=''.join(pattern.findall(item))\n",
    "print(dict)"
   ]
  },
  {
   "cell_type": "markdown",
   "metadata": {},
   "source": [
    "提取公司名称"
   ]
  },
  {
   "cell_type": "code",
   "execution_count": 7,
   "metadata": {},
   "outputs": [
    {
     "name": "stdout",
     "output_type": "stream",
     "text": [
      "['qq']\n",
      "['qq']\n",
      "['qq']\n",
      "['qq']\n",
      "['qq']\n",
      "['qq']\n"
     ]
    }
   ],
   "source": [
    "pattern2=re.compile(\"\\w+@(\\w+).\\w+\")\n",
    "for item in items:\n",
    "    print(pattern2.findall(item))"
   ]
  },
  {
   "cell_type": "code",
   "execution_count": null,
   "metadata": {
    "collapsed": true
   },
   "outputs": [],
   "source": []
  }
 ],
 "metadata": {
  "kernelspec": {
   "display_name": "Python 3",
   "language": "python",
   "name": "python3"
  },
  "language_info": {
   "codemirror_mode": {
    "name": "ipython",
    "version": 3
   },
   "file_extension": ".py",
   "mimetype": "text/x-python",
   "name": "python",
   "nbconvert_exporter": "python",
   "pygments_lexer": "ipython3",
   "version": "3.6.3"
  }
 },
 "nbformat": 4,
 "nbformat_minor": 2
}
