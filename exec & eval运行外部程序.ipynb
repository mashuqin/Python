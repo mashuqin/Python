{
 "cells": [
  {
   "cell_type": "markdown",
   "metadata": {},
   "source": [
    "## Exec & Eval\n",
    "python 运行外部程序，例如爬取到的代码等， 一般会用到exec,eval。\n",
    "因为执行代码，涉及到作用域的问题 i.e. global & local\n",
    "\n",
    "### 1. exec:\n",
    "   This function supports dynamic execution of Python code. object must be either a string or a code object.\n",
    "\n",
    "   exec(object[, globals[, locals]]) \n",
    "\n",
    "   * object：must be either a string or a code object.如果object是一个字符串，该字符串会先被解析为一组Python语句，然后再执行（除非发生语法错误）。如果object是一个code对象，那么它只是被简单地执行。\n",
    "   * globals：must be a dict.\n",
    "   * locals：can be any mapping object.\n",
    "\n",
    "tips: return value will be None"
   ]
  },
  {
   "cell_type": "code",
   "execution_count": 1,
   "metadata": {},
   "outputs": [
    {
     "name": "stdout",
     "output_type": "stream",
     "text": [
      "hello wolrd\n"
     ]
    }
   ],
   "source": [
    "# exe single line\n",
    "exec('print(\"hello wolrd\")')"
   ]
  },
  {
   "cell_type": "code",
   "execution_count": 2,
   "metadata": {},
   "outputs": [
    {
     "name": "stdout",
     "output_type": "stream",
     "text": [
      "0\n",
      "1\n",
      "2\n",
      "3\n",
      "4\n"
     ]
    }
   ],
   "source": [
    "# exe multiple line\n",
    "exec('for i in range(5): print(i)')"
   ]
  },
  {
   "cell_type": "code",
   "execution_count": 3,
   "metadata": {},
   "outputs": [
    {
     "name": "stdout",
     "output_type": "stream",
     "text": [
      "10 20 30\n",
      "60\n",
      "——————————————————————————————\n",
      "1 2 30\n",
      "33\n",
      "——————————————————————————————\n",
      "1 3 30\n",
      "34\n",
      "——————————————————————————————\n"
     ]
    }
   ],
   "source": [
    "# priority： expr > local > global\n",
    "x = 10     #global\n",
    "expr = \"\"\"\n",
    "z = 30     \n",
    "sum = x + y +z\n",
    "print(x,y,z)\n",
    "print(sum)\n",
    "print(\"——\"*15)\n",
    "\"\"\"\n",
    "def func():\n",
    "    y = 20    #local\n",
    "    exec(expr)\n",
    "    exec(expr,{'x':1, 'y':2})\n",
    "    exec(expr,{'x':1, 'y':2},{'y':3,'z':4})   #最终z被expr中的z取代\n",
    "func()"
   ]
  },
  {
   "cell_type": "markdown",
   "metadata": {},
   "source": [
    "### 2. eval\n",
    "The arguments are a string and optional globals and locals. If provided, globals must be a dictionary. If provided, locals can be any mapping object. \n",
    "### eval(expression[, globals[, locals]])\n",
    "\n",
    "* expression -- string\n",
    "* globals -- must be a dictionary\n",
    "* locals -- can be any mapping object\n",
    "    \n",
    "tips: return value is the implement result"
   ]
  },
  {
   "cell_type": "code",
   "execution_count": 4,
   "metadata": {},
   "outputs": [
    {
     "data": {
      "text/plain": [
       "21"
      ]
     },
     "execution_count": 4,
     "metadata": {},
     "output_type": "execute_result"
    }
   ],
   "source": [
    "x = 7\n",
    "eval('3*x')"
   ]
  },
  {
   "cell_type": "code",
   "execution_count": 5,
   "metadata": {},
   "outputs": [
    {
     "data": {
      "text/plain": [
       "8"
      ]
     },
     "execution_count": 5,
     "metadata": {},
     "output_type": "execute_result"
    }
   ],
   "source": [
    "eval('pow(2,3)')"
   ]
  },
  {
   "cell_type": "code",
   "execution_count": 6,
   "metadata": {},
   "outputs": [
    {
     "data": {
      "text/plain": [
       "27"
      ]
     },
     "execution_count": 6,
     "metadata": {},
     "output_type": "execute_result"
    }
   ],
   "source": [
    "a, b, c = 10,20,30\n",
    "g = {'a':6, 'b':8}\n",
    "l = {'b':11,'c':10 }\n",
    "eval('a+b+c',g,l) #6 + 11 + 10"
   ]
  },
  {
   "cell_type": "code",
   "execution_count": null,
   "metadata": {
    "collapsed": true
   },
   "outputs": [],
   "source": [
    "\n"
   ]
  }
 ],
 "metadata": {
  "kernelspec": {
   "display_name": "Python 3",
   "language": "python",
   "name": "python3"
  },
  "language_info": {
   "codemirror_mode": {
    "name": "ipython",
    "version": 3
   },
   "file_extension": ".py",
   "mimetype": "text/x-python",
   "name": "python",
   "nbconvert_exporter": "python",
   "pygments_lexer": "ipython3",
   "version": "3.6.3"
  }
 },
 "nbformat": 4,
 "nbformat_minor": 2
}
