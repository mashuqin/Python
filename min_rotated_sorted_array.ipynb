{
 "cells": [
  {
   "cell_type": "markdown",
   "metadata": {},
   "source": [
    "查找循环有序数组中的最小值，要求：时间复杂度log(n)"
   ]
  },
  {
   "cell_type": "markdown",
   "metadata": {},
   "source": [
    "由<font color=#0099ff size=4 face=\"微软雅黑\"> “有序”、log(n) </font>，想到<font color=#0099ff size=4 face=\"微软雅黑\"> 二分查找</font>"
   ]
  },
  {
   "cell_type": "markdown",
   "metadata": {},
   "source": [
    "### 二分查找"
   ]
  },
  {
   "cell_type": "markdown",
   "metadata": {},
   "source": [
    "    * 思想：分治，主要应用于有序顺组相关的查找问题。\n",
    "\n",
    "    * 典型应用：\n",
    "\n",
    "        1、最常规问题：在有序数组中查找某个值。\n",
    "\n",
    "        2、有序数组中查找某个值的所在范围。http://blog.csdn.net/ojshilu/article/details/17125531\n",
    "\n",
    "        3、在循环有序数组中查找某个值。http://blog.csdn.net/ojshilu/article/details/17485787\n",
    "\n",
    "        4、在循环有序数组中查找数组最小值（即循环偏移位置）。http://blog.csdn.net/ojshilu/article/details/40296471"
   ]
  },
  {
   "cell_type": "markdown",
   "metadata": {},
   "source": [
    "### 二分查找主要步骤：\n",
    "\n",
    "    根据左右边界left、right控制查找范围，取得中间位置mid，依据A[mid]选择下一步的查找范围。主要两点：\n",
    "\n",
    "      1、A[mid]和谁比较；\n",
    "\n",
    "      2、比较之后如何缩小问题范围；\n",
    "\n",
    "     对于上面的四种应用，就是根据这两点决定。"
   ]
  },
  {
   "cell_type": "markdown",
   "metadata": {},
   "source": [
    "### 以下为在循环有序数组中查找最小值"
   ]
  },
  {
   "cell_type": "code",
   "execution_count": 1,
   "metadata": {
    "collapsed": true
   },
   "outputs": [],
   "source": [
    "def find(l):\n",
    "    left=0\n",
    "    right=len(l)-1\n",
    "    while(left<right):  \n",
    "        mid = (left + right)//2\n",
    "        if l[mid] > l[left]:\n",
    "            left = mid \n",
    "        elif l[mid]<l[left]: \n",
    "            right = mid\n",
    "        else:\n",
    "            mid=mid+1\n",
    "            break\n",
    "    min=l[mid]\n",
    "    if min>l[0]:\n",
    "        min=l[0]\n",
    "    return min"
   ]
  },
  {
   "cell_type": "code",
   "execution_count": 2,
   "metadata": {},
   "outputs": [
    {
     "data": {
      "text/plain": [
       "0"
      ]
     },
     "execution_count": 2,
     "metadata": {},
     "output_type": "execute_result"
    }
   ],
   "source": [
    "l1=[4,5,6,0,0,1,2,2,3]\n",
    "find(l1)"
   ]
  },
  {
   "cell_type": "code",
   "execution_count": 3,
   "metadata": {},
   "outputs": [
    {
     "data": {
      "text/plain": [
       "0"
      ]
     },
     "execution_count": 3,
     "metadata": {},
     "output_type": "execute_result"
    }
   ],
   "source": [
    "l2=[0,0,1,2,2,3,4,5,6]\n",
    "find(l2)"
   ]
  },
  {
   "cell_type": "code",
   "execution_count": 5,
   "metadata": {},
   "outputs": [
    {
     "data": {
      "text/plain": [
       "0"
      ]
     },
     "execution_count": 5,
     "metadata": {},
     "output_type": "execute_result"
    }
   ],
   "source": [
    "l3=[3,3,3,4,0,2,2]\n",
    "find(l3)"
   ]
  },
  {
   "cell_type": "code",
   "execution_count": 6,
   "metadata": {},
   "outputs": [
    {
     "data": {
      "text/plain": [
       "0"
      ]
     },
     "execution_count": 6,
     "metadata": {},
     "output_type": "execute_result"
    }
   ],
   "source": [
    "l4=[1,2,2,3,4,5,6,0]\n",
    "find(l4)"
   ]
  },
  {
   "cell_type": "code",
   "execution_count": null,
   "metadata": {
    "collapsed": true
   },
   "outputs": [],
   "source": []
  }
 ],
 "metadata": {
  "kernelspec": {
   "display_name": "Python 3",
   "language": "python",
   "name": "python3"
  },
  "language_info": {
   "codemirror_mode": {
    "name": "ipython",
    "version": 3
   },
   "file_extension": ".py",
   "mimetype": "text/x-python",
   "name": "python",
   "nbconvert_exporter": "python",
   "pygments_lexer": "ipython3",
   "version": "3.6.3"
  }
 },
 "nbformat": 4,
 "nbformat_minor": 2
}
